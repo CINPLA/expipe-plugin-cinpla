{
 "cells": [
  {
   "cell_type": "markdown",
   "id": "f5912734-38f7-4caf-8aa4-29060b46c982",
   "metadata": {},
   "source": [
    "# Expipe-plugin-CINPLA Demo\n",
    "\n",
    "It is recommended to run the processing with a powerful instance."
   ]
  },
  {
   "cell_type": "code",
   "execution_count": null,
   "id": "af8b7719-eb84-4b4b-a615-a5cfc854eb38",
   "metadata": {},
   "outputs": [],
   "source": [
    "import expipe_plugin_cinpla"
   ]
  },
  {
   "cell_type": "markdown",
   "id": "5fe028da-cd6b-44c3-84b1-d0472e373394",
   "metadata": {},
   "source": [
    "## Convert old project to new\n",
    "\n",
    "You need to specify the old and new project paths, as well as a probe file (which can be downloaded from [here](https://github.com/CINPLA/expipe-plugin-cinpla/tree/educloud/probes))\n",
    "\n",
    "The `debug_n_actions` allows you to convert only a few actions for testing."
   ]
  },
  {
   "cell_type": "code",
   "execution_count": null,
   "id": "84ec3665-0aef-4eba-aca0-5985ad5d4b6d",
   "metadata": {},
   "outputs": [],
   "source": [
    "old_project_path = \"/projects/ec109/Mikkel/septum-mec\"\n",
    "new_project_path = \"/projects/ec109/Alessio/septum-mec-new\""
   ]
  },
  {
   "cell_type": "code",
   "execution_count": null,
   "id": "f316e628-d86d-4acb-a97a-2a4b9e6f579d",
   "metadata": {},
   "outputs": [],
   "source": [
    "expipe_plugin_cinpla.convert_old_project(\n",
    "    old_project_path, new_project_path, probe_path=\"tetrode_32_openephys.json\", debug_n_actions=5, overwrite=True\n",
    ")"
   ]
  },
  {
   "cell_type": "markdown",
   "id": "fc538acb-e621-45b4-a399-2c9108f33bbd",
   "metadata": {},
   "source": [
    "## Display browser\n",
    "\n",
    "The `display_browser` function is the main entry point for registering, processing, curationg, and viewing your sessions.\n",
    "\n",
    "Use the different tabs and controls to choose options and parameters and run computations."
   ]
  },
  {
   "cell_type": "code",
   "execution_count": null,
   "id": "4c8c9303-8fb3-4bf2-82f6-6f9574d137ea",
   "metadata": {},
   "outputs": [],
   "source": [
    "expipe_plugin_cinpla.display_browser(new_project_path)"
   ]
  }
 ],
 "metadata": {
  "kernelspec": {
   "display_name": "cinpla",
   "language": "python",
   "name": "cinpla"
  },
  "language_info": {
   "codemirror_mode": {
    "name": "ipython",
    "version": 3
   },
   "file_extension": ".py",
   "mimetype": "text/x-python",
   "name": "python",
   "nbconvert_exporter": "python",
   "pygments_lexer": "ipython3",
   "version": "3.11.7"
  }
 },
 "nbformat": 4,
 "nbformat_minor": 5
}
